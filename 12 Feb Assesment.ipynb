{
 "cells": [
  {
   "cell_type": "code",
   "execution_count": null,
   "id": "5bc88ad7-47fd-44e0-84a5-8be2ea6c7e38",
   "metadata": {},
   "outputs": [],
   "source": [
    "'''\n",
    "Q1. What is Exception in python? Write the difference between Exceptions\n",
    "and syntax errors?\n",
    "Ans 1:Errors are the problems in a program due to which the program will stop the execution.\n",
    "On the other hand, exceptions are raised when some internal events occur which changes the normal flow of the program. \n",
    "When the proper syntax of the language is not followed then a syntax error is thrown.\n",
    "When in the runtime an error that occurs after passing the syntax test is called exception or logical type.\n",
    "For example, when we divide any number by zero then the ZeroDivisionError exception is raised, \n",
    "or when we import a module that does not exist then ImportError is raised.'''\n"
   ]
  },
  {
   "cell_type": "code",
   "execution_count": 3,
   "id": "13fedf93-d063-49f1-8f8f-4777925ac731",
   "metadata": {},
   "outputs": [
    {
     "name": "stdout",
     "output_type": "stream",
     "text": [
      "This is exception name 'nvdznvm' is not defined\n"
     ]
    }
   ],
   "source": [
    "'''\n",
    "Q2. What happens when an exception is not handled? Explain with an example?\n",
    "When an exception occurred, if you don’t handle it, the program terminates abruptly and \n",
    "the code past the line that caused the exception will not get executed\n",
    "\n",
    "\n",
    "\n",
    "'''\n",
    "'''\n",
    "print(nvdznvm)\n",
    "print('Hello')\n",
    "'''\n",
    "\n",
    "try:\n",
    "    print(nvdznvm)\n",
    "except Exception as e:\n",
    "    print('This is exception',e)\n",
    "   ''' \n",
    "IN the above example if we try run those two commented lines if faced the error and\n",
    "the line which is perfectly wirtten alos not get exceuted\n",
    "to get rid of these kind of problems we should always adopt a practice of handling exceptions.'''"
   ]
  },
  {
   "cell_type": "code",
   "execution_count": null,
   "id": "61930e34-8138-4fac-82e7-8233368869be",
   "metadata": {},
   "outputs": [],
   "source": [
    "'''\n",
    "q.3\n",
    "ANSWER:_The try and except block in Python is used to catch and handle exceptions.\n",
    "\n",
    "try:\n",
    "    print(nvdznvm)\n",
    "except Exception as e:\n",
    "    print('This is exception',e)\n",
    "   ''' \n",
    "'''\n",
    "IN the above example if we try run those two commented lines if faced the error and\n",
    "the line which is perfectly wirtten alos not get exceuted\n",
    "to get rid of these kind of problems we should always adopt a practice of handling exceptions.'''"
   ]
  },
  {
   "cell_type": "code",
   "execution_count": 5,
   "id": "adfb3e67-29bf-4b0f-9fa2-1bd0fbdc4b7e",
   "metadata": {},
   "outputs": [
    {
     "name": "stdout",
     "output_type": "stream",
     "text": [
      "THis is under bunder\n",
      "Final Statemnt\n"
     ]
    }
   ],
   "source": [
    "#q4\n",
    "\n",
    "try:\n",
    "    f=open('texttry.txt','w')\n",
    "    f.writel('Write into my file under try block')\n",
    "    f.close()\n",
    "except Exception as e:\n",
    "    print('THis is under bunder')\n",
    "else:\n",
    "    print('File Written Successfully')\n",
    "finally:\n",
    "    print(\"Final Statemnt\")\n",
    "    \n",
    "'''\n",
    "The program first enters in try block if it faces some error then it will go into except block.\n",
    "If the try block does not have nay error then else block will be executed after try.\n",
    "Finally is executed regardless of any condition it always implements.\n",
    "'''\n",
    "    "
   ]
  },
  {
   "cell_type": "code",
   "execution_count": 8,
   "id": "22a9699c-fe95-4424-b1c6-4d9a0a180277",
   "metadata": {},
   "outputs": [
    {
     "name": "stdin",
     "output_type": "stream",
     "text": [
      "Enter a number:  1\n"
     ]
    },
    {
     "name": "stdout",
     "output_type": "stream",
     "text": [
      "Exception occurred: Invalid Age\n"
     ]
    }
   ],
   "source": [
    "#5\n",
    "'''\n",
    "Sometimes we may need to create our own custom exceptions that serve our purpose.\n",
    "Although there are alot of built in exceptions already defined by python but there maybe\n",
    "sometimes case arises where we have write our own custom Exceptions\n",
    "\n",
    "We have that privilige in python to cretae our own exception which serve our purpose. '''\n",
    "# define Python user-defined exceptions\n",
    "class InvalidAgeException(Exception):\n",
    "    \"Raised when the input value is less than 18\"\n",
    "    pass\n",
    "\n",
    "# you need to guess this number\n",
    "number = 18\n",
    "\n",
    "try:\n",
    "    input_num = int(input(\"Enter a number: \"))\n",
    "    if input_num < number:\n",
    "        raise InvalidAgeException\n",
    "    else:\n",
    "        print(\"Eligible to Vote\")\n",
    "        \n",
    "except InvalidAgeException:\n",
    "    print(\"Exception occurred: Invalid Age\")"
   ]
  },
  {
   "cell_type": "code",
   "execution_count": 12,
   "id": "f36fa99c-533f-4cc1-9d6b-294edf922f9a",
   "metadata": {},
   "outputs": [
    {
     "name": "stdin",
     "output_type": "stream",
     "text": [
      "Enter salary amount:  32452\n"
     ]
    },
    {
     "ename": "SalaryNotInRangeError",
     "evalue": "Salary is not in (5000, 15000) range",
     "output_type": "error",
     "traceback": [
      "\u001b[0;31m---------------------------------------------------------------------------\u001b[0m",
      "\u001b[0;31mSalaryNotInRangeError\u001b[0m                     Traceback (most recent call last)",
      "Cell \u001b[0;32mIn[12], line 20\u001b[0m\n\u001b[1;32m     18\u001b[0m salary \u001b[38;5;241m=\u001b[39m \u001b[38;5;28mint\u001b[39m(\u001b[38;5;28minput\u001b[39m(\u001b[38;5;124m\"\u001b[39m\u001b[38;5;124mEnter salary amount: \u001b[39m\u001b[38;5;124m\"\u001b[39m))\n\u001b[1;32m     19\u001b[0m \u001b[38;5;28;01mif\u001b[39;00m \u001b[38;5;129;01mnot\u001b[39;00m \u001b[38;5;241m5000\u001b[39m \u001b[38;5;241m<\u001b[39m salary \u001b[38;5;241m<\u001b[39m \u001b[38;5;241m15000\u001b[39m:\n\u001b[0;32m---> 20\u001b[0m     \u001b[38;5;28;01mraise\u001b[39;00m SalaryNotInRangeError(salary)\n",
      "\u001b[0;31mSalaryNotInRangeError\u001b[0m: Salary is not in (5000, 15000) range"
     ]
    }
   ],
   "source": [
    "'''\n",
    "Q6. Create\n",
    "custom exception class.Use this class to handle exception.'''\n",
    "class SalaryNotInRangeError(Exception):\n",
    "    \"\"\"Exception raised for errors in the input salary.\n",
    "\n",
    "    Attributes:\n",
    "        salary -- input salary which caused the error\n",
    "        message -- explanation of the error\n",
    "    \"\"\"\n",
    "\n",
    "    def __init__(self, salary, message=\"Salary is not in (5000, 15000) range\"):\n",
    "        self.salary = salary\n",
    "        self.message = message\n",
    "        super().__init__(self.message)\n",
    "\n",
    "\n",
    "salary = int(input(\"Enter salary amount: \"))\n",
    "if not 5000 < salary < 15000:\n",
    "    raise SalaryNotInRangeError(salary)"
   ]
  }
 ],
 "metadata": {
  "kernelspec": {
   "display_name": "Python 3 (ipykernel)",
   "language": "python",
   "name": "python3"
  },
  "language_info": {
   "codemirror_mode": {
    "name": "ipython",
    "version": 3
   },
   "file_extension": ".py",
   "mimetype": "text/x-python",
   "name": "python",
   "nbconvert_exporter": "python",
   "pygments_lexer": "ipython3",
   "version": "3.10.8"
  }
 },
 "nbformat": 4,
 "nbformat_minor": 5
}
