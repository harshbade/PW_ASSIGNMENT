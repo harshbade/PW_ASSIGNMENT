{
 "cells": [
  {
   "cell_type": "code",
   "execution_count": 2,
   "id": "19881ce3-545f-46fe-ad27-ee722e0a807f",
   "metadata": {},
   "outputs": [
    {
     "data": {
      "text/plain": [
       "[1, 3, 5, 7, 9, 11, 13, 15, 17, 19, 21, 23, 25]"
      ]
     },
     "execution_count": 2,
     "metadata": {},
     "output_type": "execute_result"
    }
   ],
   "source": [
    "#Q1. Which keyword is used to create a function? Create a function to return a list of odd numbers in the\n",
    "#range of 1 to 25.\n",
    "'''\n",
    "def keyword is used to create a function.\n",
    "'''\n",
    "def is_odd():\n",
    "    l=[]\n",
    "    for i in range(1,26):\n",
    "        if i%2!=0:\n",
    "            l.append(i)\n",
    "    return l\n",
    "            \n",
    "is_odd()"
   ]
  },
  {
   "cell_type": "code",
   "execution_count": 3,
   "id": "1ed77d86-a8fd-4630-8f13-15a5571b34ac",
   "metadata": {},
   "outputs": [
    {
     "name": "stdout",
     "output_type": "stream",
     "text": [
      "Hello\n",
      "Welcome\n",
      "to\n",
      "GeeksforGeeks\n",
      "first == hello\n",
      "mid == stuents\n",
      "last == Pwskills\n"
     ]
    }
   ],
   "source": [
    "'''\n",
    "Q2. Why *args and **kwargs is used in some functions? Create a function each for *args and **kwargs\n",
    "to demonstrate their use.\n",
    "'''\n",
    "\n",
    "'''\n",
    "The special syntax *args in function definitions in python is used to pass a variable number of arguments to a function.\n",
    "It is used to pass a non-key worded, variable-length argument list.\n",
    "'''\n",
    "\n",
    "def myFun(*argv):\n",
    "    for arg in argv:\n",
    "        print(arg)\n",
    "  \n",
    "  \n",
    "myFun('Hello', 'Welcome', 'to', 'GeeksforGeeks')\\\n",
    "\n",
    "\n",
    "\n",
    "\n",
    "'''\n",
    "Python program to illustrate *kwargs for a variable number of keyword arguments.\n",
    "Here **kwargs accept keyworded variable-length argument passed by the function call.\n",
    "\n",
    "'''\n",
    "\n",
    "\n",
    "def myFun(**kwargs):\n",
    "    for key, value in kwargs.items():\n",
    "        print(\"%s == %s\" % (key, value))\n",
    "  \n",
    "  \n",
    "# Driver code\n",
    "myFun(first='hello', mid='stuents', last='Pwskills')\n"
   ]
  },
  {
   "cell_type": "code",
   "execution_count": 6,
   "id": "45676775-a847-4b6d-ac43-19fc8e1a1546",
   "metadata": {},
   "outputs": [
    {
     "name": "stdout",
     "output_type": "stream",
     "text": [
      "2\n",
      "4\n",
      "6\n",
      "8\n",
      "10\n"
     ]
    }
   ],
   "source": [
    "'''\n",
    "What is an iterator in python? Name the method used to initialise the iterator object and the method\n",
    "used for iteration. Use these methods to print the first five elements of the given list [2, 4, 6, 8, 10, 12, 14,\n",
    "16, 18, 20].\n",
    "'''\n",
    "\n",
    "'''An iterator is an object that contains a countable number of values.\n",
    "An iterator is an object that can be iterated upon, meaning that you can traverse through all the values.'''\n",
    "l=[2, 4, 6, 8, 10, 12, 14,16, 18, 20]\n",
    "l1=iter(l)\n",
    "for i in range(0,5):\n",
    "    print(next(l1))\n",
    "    #l1.__next__()\n",
    "    "
   ]
  },
  {
   "cell_type": "code",
   "execution_count": null,
   "id": "90bab5ef-f641-46c3-beb3-afe0249b7eea",
   "metadata": {},
   "outputs": [],
   "source": [
    "'''\n",
    "Q8. Write a python program to check whether a given number is Palindrome or not using a while loop.\n",
    "Q9. Write a code to print odd numbers from 1 to 100 using list comprehension.\n",
    "Note: Use a list comprehension to create a list from 1 to 100 and use another List comprehension to filter\n",
    "out odd numbers.\n",
    "'''"
   ]
  },
  {
   "cell_type": "code",
   "execution_count": null,
   "id": "c0a76aaa-f67a-4a11-81e2-afd73e9c2fbe",
   "metadata": {},
   "outputs": [],
   "source": []
  },
  {
   "cell_type": "code",
   "execution_count": null,
   "id": "9f8e8f79-5eef-4b9a-9996-573f10a146f8",
   "metadata": {},
   "outputs": [],
   "source": []
  },
  {
   "cell_type": "code",
   "execution_count": null,
   "id": "9856a63b-b9c0-4802-b5c4-35b69d7fc6c2",
   "metadata": {},
   "outputs": [],
   "source": [
    "'''\n",
    "Q4. What is a generator function in python? Why yield keyword is used? Give an example of a generator\n",
    "function.\n",
    "In Python, a generator is a function that returns an iterator that produces a sequence of values when iterated over.\n",
    "\n",
    "Generators are useful when we want to produce a large sequence of values,\n",
    "but we don't want to store all of them in memory at once.\n",
    "\n",
    "The yield keyword is used to produce a value from the generator and\n",
    "pause the generator function's execution until the next value is requested.\n",
    "'''\n",
    "def my_generator(n):\n",
    "\n",
    "    # initialize counter\n",
    "    value = 0\n",
    "\n",
    "    # loop until counter is less than n\n",
    "    while value < n:\n",
    "\n",
    "        # produce the current value of the counter\n",
    "        yield value\n",
    "\n",
    "        # increment the counter\n",
    "        value += 1\n",
    "\n",
    "# iterate over the generator object produced by my_generator\n",
    "for value in my_generator(3):\n",
    "\n",
    "    # print each value produced by generator\n",
    "    print(value)"
   ]
  },
  {
   "cell_type": "code",
   "execution_count": 15,
   "id": "fd013ae8-26a0-45d0-a375-7c90804b7284",
   "metadata": {},
   "outputs": [
    {
     "name": "stdout",
     "output_type": "stream",
     "text": [
      "2\n",
      "3\n",
      "5\n",
      "7\n",
      "11\n",
      "13\n",
      "17\n",
      "19\n",
      "23\n",
      "29\n",
      "31\n",
      "37\n",
      "41\n",
      "43\n",
      "47\n",
      "53\n",
      "59\n",
      "61\n",
      "67\n",
      "71\n"
     ]
    }
   ],
   "source": [
    "'''\n",
    "Q5. Create a generator function for prime numbers less than 1000. Use the next() method to print the\n",
    "first 20 prime numbers.'''\n",
    "from math import sqrt\n",
    "\n",
    "def is_prime(n):\n",
    "    if (n <= 1):\n",
    "        return False\n",
    "    if (n == 2):\n",
    "        return True\n",
    "    if (n % 2 == 0):\n",
    "        return False\n",
    "\n",
    "    i = 3\n",
    "    while i <= sqrt(n):\n",
    "        if n % i == 0:\n",
    "            return False\n",
    "        i = i + 2\n",
    "\n",
    "    return True\n",
    "def prime_generator():\n",
    "    n = 1\n",
    "    while True:\n",
    "        n += 1\n",
    "        if is_prime(n):\n",
    "            yield n\n",
    "generator = prime_generator()\n",
    "\n",
    "for i in range(20):\n",
    "    print(next(generator))"
   ]
  },
  {
   "cell_type": "code",
   "execution_count": 16,
   "id": "a3958e81-fecd-49fe-908e-b7b87c3def1f",
   "metadata": {},
   "outputs": [
    {
     "name": "stdout",
     "output_type": "stream",
     "text": [
      "0\n",
      "1\n",
      "1\n",
      "2\n",
      "3\n",
      "5\n",
      "8\n",
      "13\n",
      "21\n",
      "34\n"
     ]
    }
   ],
   "source": [
    "'''\n",
    "Q6. Write a python program to print the first 10 Fibonacci numbers using a while loop.\n",
    "'''\n",
    "a=0\n",
    "b=1\n",
    "n=0\n",
    "while(n<10):\n",
    "    print(a)\n",
    "    c=a+b\n",
    "    a,b=b,c\n",
    "    n+=1\n",
    "\n",
    "    "
   ]
  },
  {
   "cell_type": "code",
   "execution_count": 20,
   "id": "bf4672cb-2758-4d75-b494-7d26f0b41749",
   "metadata": {},
   "outputs": [
    {
     "name": "stdout",
     "output_type": "stream",
     "text": [
      "['p', 'w', 's', 'k', 'i', 'l', 'l', 's']\n"
     ]
    }
   ],
   "source": [
    "'''\n",
    "Q7. Write a List Comprehension to iterate through the given string: ‘pwskills’.\n",
    "Expected output: ['p', 'w', 's', 'k', 'i', 'l', 'l', 's']\n",
    "'''\n",
    "st1='pwskills'\n",
    "l1=[i for i in st1]\n",
    "print(l1)\n"
   ]
  },
  {
   "cell_type": "code",
   "execution_count": 30,
   "id": "17ceca68-cdc6-49c5-884c-60fbb3877a7c",
   "metadata": {},
   "outputs": [
    {
     "name": "stdout",
     "output_type": "stream",
     "text": [
      "Not A Pallindrome\n"
     ]
    }
   ],
   "source": [
    "'''\n",
    "Write a python program to check whether a given number is Palindrome or not using a while loop.\n",
    "'''\n",
    "def rev_num(num):\n",
    "    rev=0\n",
    "    while(num!=0):\n",
    "        digit=num%10\n",
    "        rev=rev*10+digit\n",
    "        num=num//10\n",
    "    return rev\n",
    "if num==rev_num(897):\n",
    "    print(\"Pallinderome\")\n",
    "else:\n",
    "    print(\"Not A Pallindrome\")\n"
   ]
  },
  {
   "cell_type": "code",
   "execution_count": 38,
   "id": "0cd82783-d64c-4864-a486-2d806adc5c22",
   "metadata": {},
   "outputs": [
    {
     "data": {
      "text/plain": [
       "[1,\n",
       " ' ',\n",
       " 3,\n",
       " ' ',\n",
       " 5,\n",
       " ' ',\n",
       " 7,\n",
       " ' ',\n",
       " 9,\n",
       " ' ',\n",
       " 11,\n",
       " ' ',\n",
       " 13,\n",
       " ' ',\n",
       " 15,\n",
       " ' ',\n",
       " 17,\n",
       " ' ',\n",
       " 19,\n",
       " ' ',\n",
       " 21,\n",
       " ' ',\n",
       " 23,\n",
       " ' ',\n",
       " 25,\n",
       " ' ',\n",
       " 27,\n",
       " ' ',\n",
       " 29,\n",
       " ' ',\n",
       " 31,\n",
       " ' ',\n",
       " 33,\n",
       " ' ',\n",
       " 35,\n",
       " ' ',\n",
       " 37,\n",
       " ' ',\n",
       " 39,\n",
       " ' ',\n",
       " 41,\n",
       " ' ',\n",
       " 43,\n",
       " ' ',\n",
       " 45,\n",
       " ' ',\n",
       " 47,\n",
       " ' ',\n",
       " 49,\n",
       " ' ',\n",
       " 51,\n",
       " ' ',\n",
       " 53,\n",
       " ' ',\n",
       " 55,\n",
       " ' ',\n",
       " 57,\n",
       " ' ',\n",
       " 59,\n",
       " ' ',\n",
       " 61,\n",
       " ' ',\n",
       " 63,\n",
       " ' ',\n",
       " 65,\n",
       " ' ',\n",
       " 67,\n",
       " ' ',\n",
       " 69,\n",
       " ' ',\n",
       " 71,\n",
       " ' ',\n",
       " 73,\n",
       " ' ',\n",
       " 75,\n",
       " ' ',\n",
       " 77,\n",
       " ' ',\n",
       " 79,\n",
       " ' ',\n",
       " 81,\n",
       " ' ',\n",
       " 83,\n",
       " ' ',\n",
       " 85,\n",
       " ' ',\n",
       " 87,\n",
       " ' ',\n",
       " 89,\n",
       " ' ',\n",
       " 91,\n",
       " ' ',\n",
       " 93,\n",
       " ' ',\n",
       " 95,\n",
       " ' ',\n",
       " 97,\n",
       " ' ',\n",
       " 99,\n",
       " ' ']"
      ]
     },
     "execution_count": 38,
     "metadata": {},
     "output_type": "execute_result"
    }
   ],
   "source": [
    "'''\n",
    "Q9. Write a code to print odd numbers from 1 to 100 using list comprehension.\n",
    "Note: Use a list comprehension to create a list from 1 to 100 and use another List comprehension to filter\n",
    "out odd numbers.'''\n",
    "l1=[i for i in range(1,101)]\n",
    "l2=[x if x%2!=0 else ' '  ]\n",
    "l2"
   ]
  }
 ],
 "metadata": {
  "kernelspec": {
   "display_name": "Python 3 (ipykernel)",
   "language": "python",
   "name": "python3"
  },
  "language_info": {
   "codemirror_mode": {
    "name": "ipython",
    "version": 3
   },
   "file_extension": ".py",
   "mimetype": "text/x-python",
   "name": "python",
   "nbconvert_exporter": "python",
   "pygments_lexer": "ipython3",
   "version": "3.10.8"
  }
 },
 "nbformat": 4,
 "nbformat_minor": 5
}
