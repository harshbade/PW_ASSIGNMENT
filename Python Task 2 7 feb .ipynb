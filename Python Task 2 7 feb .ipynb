{
 "cells": [
  {
   "cell_type": "code",
   "execution_count": null,
   "id": "d08db1e1-22fd-463c-baa6-9a450ee3e305",
   "metadata": {},
   "outputs": [],
   "source": [
    "'''\n",
    "Q1. You are writing code for a company. The requirement of the company is that you create a python\n",
    "function that will check whether the password entered by the user is correct or not. The function should\n",
    "take the password as input and return the string “Valid Password” if the entered password follows the\n",
    "below-given password guidelines else it should return “Invalid Password”.\n",
    "Note: 1. The Password should contain at least two uppercase letters and at least two lowercase letters.\n",
    "2. The Password should contain at least a number and three special characters.\n",
    "3. The length of the password should be 10 characters long.\n",
    "Q2. Solve the below-given questions using at least one of the following:\n",
    "1. Lambda functioJ\n",
    "2. Filter functioJ\n",
    "3. Zap functioJ\n",
    "4. List ComprehensioI\n",
    "B Check if the string starts with a particular letterY\n",
    "B Check if the string is numericY\n",
    "B Sort a list of tuples having fruit names and their quantity. [(\"mango\",99),(\"orange\",80), (\"grapes\", 1000)-\n",
    "B Find the squares of numbers from 1 to 10Y\n",
    "B Find the cube root of numbers from 1 to 10Y\n",
    "B Check if a given number is evenY\n",
    "B Filter odd numbers from the given list.\n",
    "[1,2,3,4,5,6,7,8,9,10-\n",
    "B Sort a list of integers into positive and negative integers lists.\n",
    "[1,2,3,4,5,6,-1,-2,-3,-4,-5,0]'''\n"
   ]
  },
  {
   "cell_type": "code",
   "execution_count": 3,
   "id": "c6eea920-6a8a-4ca8-954b-fc7861c23fe1",
   "metadata": {},
   "outputs": [
    {
     "name": "stdout",
     "output_type": "stream",
     "text": [
      "Valid Password\n"
     ]
    }
   ],
   "source": [
    "'''\n",
    "You are writing code for a company. The requirement of the company is that you create a python\n",
    "function that will check whether the password entered by the user is correct or not. The function should\n",
    "take the password as input and return the string “Valid Password” if the entered password follows the\n",
    "below-given password guidelines else it should return “Invalid Password”.\n",
    "Note: 1. The Password should contain at least two uppercase letters and at least two lowercase letters.\n",
    "2. The Password should contain at least a number and three special characters.\n",
    "3. The length of the password should be 10 characters long.'''\n",
    "\n",
    "l, u, p, d = 0, 0, 0, 0\n",
    "s = \"aaUU@_$123456\"\n",
    "if (len(s) >= 10):\n",
    "    for i in s:\n",
    " \n",
    "        # counting lowercase alphabets\n",
    "        if (i.islower()):\n",
    "            l+=1           \n",
    " \n",
    "        # counting uppercase alphabets\n",
    "        if (i.isupper()):\n",
    "            u+=1           \n",
    " \n",
    "        # counting digits\n",
    "        if (i.isdigit()):\n",
    "            d+=1           \n",
    " \n",
    "        # counting the mentioned special characters\n",
    "        if(i=='@'or i=='$' or i=='_'):\n",
    "            p+=1          \n",
    "if (l>=2 and u>=2 and p>=1 and d>=1 and l+p+u+d==len(s)):\n",
    "    print(\"Valid Password\")\n",
    "else:\n",
    "    print(\"Invalid Password\")"
   ]
  },
  {
   "cell_type": "code",
   "execution_count": 23,
   "id": "2cb0cf6d-7900-4836-8898-d9a73b9ea01a",
   "metadata": {},
   "outputs": [
    {
     "name": "stdout",
     "output_type": "stream",
     "text": [
      "[1, 4, 9, 16, 25, 36, 49, 64, 81, 100]\n",
      "[1, 8, 27, 64, 125, 216, 343, 512, 729, 1000]\n",
      "Even number\n",
      "[1, 3, 5, 7, 9]\n"
     ]
    }
   ],
   "source": [
    "'''Q2. Solve the below-given questions using at least one of the following:\n",
    "1. Lambda functioJ\n",
    "2. Filter functioJ\n",
    "3. Zap functioJ\n",
    "4. List ComprehensioI\n",
    "Check if the string starts with a particular letter\n",
    "B Check if the string is numericY\n",
    "B Sort a list of tuples having fruit names and their quantity. [(\"mango\",99),(\"orange\",80), (\"grapes\", 1000)-\n",
    "B Find the squares of numbers from 1 to 10.\n",
    "B Find the cube root of numbers from 1 to 10.\n",
    "B Check if a given number is evenY\n",
    "B Filter odd numbers from the given list.\n",
    "[1,2,3,4,5,6,7,8,9,10-\n",
    "B Sort a list of integers into positive and negative integers lists.\n",
    "[1,2,3,4,5,6,-1,-2,-3,-4,-5,0]\n",
    " '''\n",
    "'''\n",
    "Check if the string starts with a particular letter'''\n",
    "v='Pwskills'\n",
    "v.startswith('P')\n",
    "\n",
    "str1='123'\n",
    "str1.isnumeric()\n",
    "\n",
    "\n",
    "def Sort_Tuple(tup):\n",
    " \n",
    "    \n",
    "    return(sorted(tup, key = lambda x: x[1])) \n",
    "tup=[(\"mango\",99),(\"orange\",80), (\"grapes\", 1000)]\n",
    "\n",
    "Sort_Tuple(tup)\n",
    "\n",
    "\n",
    "l1=[i**2 for i in range(1,11)]\n",
    "print(l1)\n",
    "\n",
    "\n",
    "l2=[i**3 for i in range(1,11)]\n",
    "print(l2)\n",
    "\n",
    "\n",
    "x=lambda x: x%2==0,2\n",
    "\n",
    "\n",
    "n=786\n",
    "odd_even=lambda n:\"Even number\" if(n%2==0) else \"Odd number\"\n",
    "print(odd_even(n))\n",
    "\n",
    "a=[1,2,3,4,5,6,7,8,9,10]\n",
    "result = list(filter(lambda x: x % 2 == 1, a))\n",
    "print(result)"
   ]
  }
 ],
 "metadata": {
  "kernelspec": {
   "display_name": "Python 3 (ipykernel)",
   "language": "python",
   "name": "python3"
  },
  "language_info": {
   "codemirror_mode": {
    "name": "ipython",
    "version": 3
   },
   "file_extension": ".py",
   "mimetype": "text/x-python",
   "name": "python",
   "nbconvert_exporter": "python",
   "pygments_lexer": "ipython3",
   "version": "3.10.8"
  }
 },
 "nbformat": 4,
 "nbformat_minor": 5
}
