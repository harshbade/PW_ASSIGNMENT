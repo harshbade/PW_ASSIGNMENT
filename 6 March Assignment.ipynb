{
 "cells": [
  {
   "cell_type": "markdown",
   "id": "b5e6035f-46c4-488a-9a9c-f2961ff6409c",
   "metadata": {},
   "source": [
    "Q1. What is Statistics?\n",
    "Q2. Define the different types of statistics and give an example of when each type might be used.\n",
    "Q3. What are the different types of data and how do they differ from each other? Provide an example of\n",
    "each type of data.\n",
    "Q4. Categorise the following datasets with respect to quantitative and qualitative data types:\n",
    "(i) Grading in exam: A+, A, B+, B, C+, C, D, E\n",
    "(ii) Colour of mangoes: yellow, green, orange, red\n",
    "(iii) Height data of a class: [178.9, 179, 179.5, 176, 177.2, 178.3, 175.8,...]\n",
    "(iv) Number of mangoes exported by a farm: [500, 600, 478, 672, ...]\n",
    "Q5. Explain the concept of levels of measurement and give an example of a variable for each level.\n",
    "Q6. Why is it important to understand the level of measurement when analyzing data? Provide an\n",
    "example to illustrate your answer.\n",
    "Q7. How nominal data type is different from ordinal data type.\n",
    "Q8. Which type of plot can be used to display data in terms of range?\n",
    "Q9. Describe the difference between descriptive and inferential statistics. Give an example of each\n",
    "type of statistics and explain how they are used.\n",
    "Q10. What are some common measures of central tendency and variability used in statistics? Explain\n",
    "how each measure can be used to describe a dataset.\n"
   ]
  },
  {
   "cell_type": "markdown",
   "id": "f5e3b5e9-a151-412c-b01e-32ea1948a9b2",
   "metadata": {},
   "source": [
    "Answer1:- Statistics is the science of collecting,analyzing,and organizing data.\n",
    "Statistics is the science concerned with developing and studying methods for collecting, analyzing, interpreting and presenting  data.\n",
    "\n",
    "ANSWER 2:-There are two types of statistics \n",
    "1:-Descriptive Statictics\n",
    "It consists of of organizing and summarizing data.\n",
    "Measure of central tendency\n",
    "Measure od dispersion\n",
    "Different type of disspersion \n",
    "all comes under Descriptive statistics.\n",
    "\n",
    "2:-Inferential Statistics \n",
    "Inferential Statistics makes inference and prediction about\n",
    "population based on a sample of data taken from population.\n",
    "It uses data we have measured to form conclusion.\n",
    "\n",
    "Z-test\n",
    "T-test\n",
    "CHI square\n"
   ]
  },
  {
   "cell_type": "markdown",
   "id": "622f1b57-6ce8-434a-ae9d-3f5023ac9757",
   "metadata": {},
   "source": [
    "Ans3:-\n",
    "Majorly there are two differnt types of data.\n",
    "1.Quantitative Data\n",
    "\n",
    "\n",
    "Further Quantitative data can be classified as Discrete and Continous.\n",
    "Discrete--> Whole Number  suppose Number of bank account,Number of children\n",
    "\n",
    "Continous-->Any Values -->Height weight temperature\n",
    "\n",
    "\n",
    "2.Qualitative Data\n",
    "Qualitatibve data cannot be measured or counted in the form of numbers.These type of data are sorted on the basis of category.\n",
    "\n",
    "Nominal ->Blood Group ,Gender,Pincode\n",
    "\n",
    "ordinal-->Customer feedback,Grades."
   ]
  },
  {
   "cell_type": "markdown",
   "id": "85ca0747-0a1f-4574-b517-6fa847e7e8b1",
   "metadata": {},
   "source": [
    "Q4. Categorise the following datasets with respect to quantitative and qualitative data types:\n",
    "(i) Grading in exam: A+, A, B+, B, C+, C, D, E\n",
    "(ii) Colour of mangoes: yellow, green, orange, red\n",
    "(iii) Height data of a class: [178.9, 179, 179.5, 176, 177.2, 178.3, 175.8,...]\n",
    "(iv) Number of mangoes exported by a farm: [500, 600, 478, 672, ...]\n",
    "\n",
    "Ans i:-Qualitative Ordinal Data\n",
    "ii-Qualitative Nominal Data\n",
    "iii-Quantative Continous Data\n",
    "iv:-Quantative Discrete Data\n"
   ]
  },
  {
   "cell_type": "markdown",
   "id": "514ea7d7-22f0-4916-939f-e0fb0d61ebda",
   "metadata": {},
   "source": [
    "ANS5:-The nominal scale simply categorizes variables according to qualitative labels (or names). These labels and groupings don’t have any order or hierarchy to them, nor do they convey any numerical value. For example, the variable “hair color” could be measured on a nominal scale according to the following categories: blonde hair, brown hair, gray hair, and so on.\n",
    "\n",
    "The ordinal scale also categorizes variables into labeled groups, and these categories have an order or hierarchy to them. For example, you could measure the variable “income” on an ordinal scale as follows: low income, medium income, high income. Another example could be level of education, classified as follows: high school, master’s degree, doctorate. These are still qualitative labels (as with the nominal scale), but you can see that they follow a hierarchical order. \n",
    "\n",
    "The interval scale is a numerical scale which labels and orders variables, with a known, evenly spaced interval between each of the values. An oft-cited example of interval data is temperature in Fahrenheit, where the difference between 10 and 20 degrees Fahrenheit is exactly the same as the difference between, say, 50 and 60 degrees Fahrenheit.\n",
    "\n",
    "The ratio scale is exactly the same as the interval scale, with one key difference: The ratio scale has what’s known as a “true zero.” A good example of ratio data is weight in kilograms. If something weighs zero kilograms, it truly weighs nothing—compared to temperature (interval data), where a value of zero degrees doesn’t mean there is “no temperature,” it simply means it’s extremely cold!"
   ]
  },
  {
   "cell_type": "markdown",
   "id": "aae90ae1-de02-4e92-bfe6-b5e152143cd6",
   "metadata": {},
   "source": [
    "ANS6:-Level of measurement is important as it determines the type of statistical analysis you can carry out. \n",
    "As a result, it affects both the nature and the depth of insights you’re able to glean from your data.\n",
    "Certain statistical tests can only be performed where more precise levels of measurement have been used, \n",
    "so it’s essential to plan in advance how you’ll gather and measure your data.\n"
   ]
  },
  {
   "cell_type": "markdown",
   "id": "7ff9e159-7a1f-4e53-9017-a4e5e9df6ade",
   "metadata": {},
   "source": [
    "Ans7:-The nominal scale simply categorizes variables according to qualitative labels (or names). These labels and groupings \n",
    "don’t have any order or hierarchy to them,\n",
    "nor do they convey any numerical value.\n",
    "\n",
    "The ordinal scale also categorizes variables into labeled groups, and these categories have an \n",
    "order or hierarchy to them. For example, you could measure the variable “income” on an ordinal scale as follows: \n",
    "low income, medium income, high income.\n"
   ]
  },
  {
   "cell_type": "markdown",
   "id": "0a34be11-5541-4f0e-b388-f9553a449e9b",
   "metadata": {},
   "source": [
    "ANS8-Histogram"
   ]
  },
  {
   "cell_type": "markdown",
   "id": "ccafb7e7-e286-46b7-a053-49ea4cdd97b5",
   "metadata": {},
   "source": [
    "ANS9-Descriptive Statistics describes the characteristics of a data set. It is a simple technique to describe, show and summarize data in a meaningful way. You simply choose a group you’re interested in, record data about the group, and then use summary statistics and graphs to describe the group properties. There is no uncertainty involved because you’re just describing the people or items that you actually measure.\n",
    "\n",
    "In Inferential Statistics, the focus is on making predictions about a large group of data based on a representative sample of the population. A random sample of data is considered from a population to describe and make inferences about the population"
   ]
  },
  {
   "cell_type": "markdown",
   "id": "07423b61-849a-402f-99e0-781741594152",
   "metadata": {},
   "source": [
    "Ans 10-The three commonly used measures of central tendency are the mean, median, and mode. A statistic that tells us how the data values are dispersed or spread out is called the measure of dispersion. A simple measure of dispersion is the range\n",
    "The median is the middle score for a set of data that has been arranged in order of magnitude\n",
    "If dealing with a normal distribution, and tests of normality show that the data is non-normal, it is customary to use the median instead of the mean. However, this is more a rule of thumb than a strict guideline. Sometimes, researchers wish to report the mean of a skewed distribution if the median and mean are not appreciably different (a subjective assessment), and if it allows easier comparisons to previous research to be made."
   ]
  }
 ],
 "metadata": {
  "kernelspec": {
   "display_name": "Python 3 (ipykernel)",
   "language": "python",
   "name": "python3"
  },
  "language_info": {
   "codemirror_mode": {
    "name": "ipython",
    "version": 3
   },
   "file_extension": ".py",
   "mimetype": "text/x-python",
   "name": "python",
   "nbconvert_exporter": "python",
   "pygments_lexer": "ipython3",
   "version": "3.10.8"
  }
 },
 "nbformat": 4,
 "nbformat_minor": 5
}
