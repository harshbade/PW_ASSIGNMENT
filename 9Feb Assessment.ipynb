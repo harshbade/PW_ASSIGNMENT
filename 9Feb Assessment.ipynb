{
 "cells": [
  {
   "cell_type": "code",
   "execution_count": 3,
   "id": "31ea1f9b-6171-4721-a35c-8c54ad6e262f",
   "metadata": {},
   "outputs": [
    {
     "data": {
      "text/plain": [
       "'Astra4523'"
      ]
     },
     "execution_count": 3,
     "metadata": {},
     "output_type": "execute_result"
    }
   ],
   "source": [
    "'''Q1, Create a vehicle class with an init method having instance variables as name_of_vehicle, max_speed\n",
    "and average_of_vehicle.'''\n",
    "\n",
    "class vehicle:\n",
    "    def __init__(self,name_of_vehicle, max_speed,average_of_vehicle):\n",
    "        self.name_of_vehicle=name_of_vehicle\n",
    "        self.max_speed=max_speed\n",
    "        self.average_of_vehicle=average_of_vehicle\n",
    "    def show_details(self):\n",
    "        return self.name_of_vehicle+str(self.max_speed)+str(self.average_of_vehicle)\n",
    "\n",
    "cmw=vehicle('Astra',45,23)\n",
    "cmw.show_details()\n",
    "        "
   ]
  },
  {
   "cell_type": "code",
   "execution_count": 15,
   "id": "e9dd7cf0-4482-4795-adf6-d871f49fc69c",
   "metadata": {},
   "outputs": [
    {
     "data": {
      "text/plain": [
       "'asca90'"
      ]
     },
     "execution_count": 15,
     "metadata": {},
     "output_type": "execute_result"
    }
   ],
   "source": [
    "'''\n",
    "Q2. Create a child class car from the vehicle class created in Que 1, which will inherit the vehicle class.\n",
    "Create a method named seating_capacity which takes capacity as an argument and returns the name of\n",
    "the vehicle and its seating capacity.\n",
    "'''\n",
    "class car(vehicle):\n",
    "    def __init__(self,name_of_vehicle, max_speed,average_of_vehicle,capacity):\n",
    "        self.name_of_vehicle=name_of_vehicle\n",
    "        self.max_speed=max_speed\n",
    "        self.average_of_vehicle=average_of_vehicle\n",
    "        self.capacity=capacity\n",
    "        \n",
    "        \n",
    "    def seating_capacity(self,capacity):\n",
    "        return self.name_of_vehicle+str(self.capacity)\n",
    "    \n",
    "bvc=car('asca',77,9,90)\n",
    "bvc.seating_capacity(23)"
   ]
  },
  {
   "cell_type": "markdown",
   "id": "108e6a6d-edcd-4eea-bebc-62055e1d822c",
   "metadata": {},
   "source": [
    "'''\n",
    "Q3. What is multiple inheritance? Write a python code to demonstrate multiple inheritance.\n",
    "Q4. What are getter and setter in python? Create a class and create a getter and a setter method in this\n",
    "class.\n",
    "Q5.What is method overriding in python? Write a python code to demonstrate method overriding.'''\n"
   ]
  },
  {
   "cell_type": "code",
   "execution_count": 18,
   "id": "489dfec0-8aa2-47da-a4d9-b385f6a2f928",
   "metadata": {},
   "outputs": [],
   "source": [
    "'''\n",
    "Q3. What is multiple inheritance? Write a python code to demonstrate multiple inheritance.'''\n",
    "'''\n",
    "\n",
    "When a class is derived from more than one base class it is called multiple Inheritance.\n",
    "The derived class inherits all the features of the base case.\n",
    "'''\n",
    "class Base1:\n",
    "    pass\n",
    "       #pass #Body of the class\n",
    "\n",
    "class Base2:\n",
    "    pass\n",
    "       #pass #Body of the class\n",
    "\n",
    "class Derived(Base1, Base2):\n",
    "    pass\n",
    "     #Body of the class"
   ]
  },
  {
   "cell_type": "code",
   "execution_count": 21,
   "id": "68d26971-8b26-431d-a6f1-6dd516f148c5",
   "metadata": {},
   "outputs": [
    {
     "name": "stdout",
     "output_type": "stream",
     "text": [
      "21\n",
      "21\n"
     ]
    }
   ],
   "source": [
    "'''\n",
    "q4.\n",
    "\n",
    "\n",
    "In Python, getters and setters are not the same as those in other object-oriented programming languages.\n",
    "Basically, the main purpose of using getters and setters in object-oriented programs is to ensure data encapsulation. \n",
    "Private variables in python are not actually hidden fields like in other object oriented languages.\n",
    "Getters and Setters in python are often used when:\n",
    "\n",
    "'''\n",
    "class PW:\n",
    "    def __init__(self, age = 0):\n",
    "         self._age = age\n",
    "      \n",
    "    # getter method\n",
    "    def get_age(self):\n",
    "        return self._age\n",
    "      \n",
    "    # setter method\n",
    "    def set_age(self, x):\n",
    "        self._age = x\n",
    "  \n",
    "raj = PW()\n",
    "  \n",
    "# setting the age using setter\n",
    "raj.set_age(21)\n",
    "  \n",
    "# retrieving age using getter\n",
    "print(raj.get_age())\n",
    "  \n",
    "print(raj._age)"
   ]
  },
  {
   "cell_type": "code",
   "execution_count": 22,
   "id": "18299ebd-af80-4320-b683-6cc2791ad961",
   "metadata": {},
   "outputs": [
    {
     "name": "stdout",
     "output_type": "stream",
     "text": [
      "Inside Parent\n",
      "Inside Child\n"
     ]
    }
   ],
   "source": [
    "'''\n",
    "\n",
    "\n",
    "Q5.What is method overriding in python? Write a python code to demonstrate method overriding.\n",
    "\n",
    "\n",
    "Method overriding is an ability of any object-oriented programming language that allows a subclass or\n",
    "child class to provide a specific implementation of a method that is already \n",
    "provided by one of its super-classes or parent classes. When a method in a subclass has the same name,\n",
    "same parameters or signature and same return type(or sub-type) as a method in its super-class,\n",
    "then the method in the subclass is said to override the method in the super-class.\n",
    "'''\n",
    "class Parent():\n",
    "      \n",
    "    # Constructor\n",
    "    def __init__(self):\n",
    "        self.value = \"Inside Parent\"\n",
    "          \n",
    "    # Parent's show method\n",
    "    def show(self):\n",
    "        print(self.value)\n",
    "          \n",
    "# Defining child class\n",
    "class Child(Parent):\n",
    "      \n",
    "    # Constructor\n",
    "    def __init__(self):\n",
    "        self.value = \"Inside Child\"\n",
    "          \n",
    "    # Child's show method\n",
    "    def show(self):\n",
    "        print(self.value)\n",
    "          \n",
    "          \n",
    "# Driver's code\n",
    "obj1 = Parent()\n",
    "obj2 = Child()\n",
    "  \n",
    "obj1.show()\n",
    "obj2.show()"
   ]
  }
 ],
 "metadata": {
  "kernelspec": {
   "display_name": "Python 3 (ipykernel)",
   "language": "python",
   "name": "python3"
  },
  "language_info": {
   "codemirror_mode": {
    "name": "ipython",
    "version": 3
   },
   "file_extension": ".py",
   "mimetype": "text/x-python",
   "name": "python",
   "nbconvert_exporter": "python",
   "pygments_lexer": "ipython3",
   "version": "3.10.8"
  }
 },
 "nbformat": 4,
 "nbformat_minor": 5
}
