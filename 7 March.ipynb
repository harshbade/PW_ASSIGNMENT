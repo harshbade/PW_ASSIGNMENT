{
 "cells": [
  {
   "cell_type": "markdown",
   "id": "3a177e04-fcdb-4ea5-83c0-4ea7fbb5c97f",
   "metadata": {},
   "source": [
    "Q1. What are the three measures of central tendency?\n",
    "Q2. What is the difference between the mean, median, and mode? How are they used to measure the\n",
    "central tendency of a dataset?\n",
    "Q3. Measure the three measures of central tendency for the given height data:\n",
    "[178,177,176,177,178.2,178,175,179,180,175,178.9,176.2,177,172.5,178,176.5]\n",
    "Q4. Find the standard deviation for the given data:\n",
    "[178,177,176,177,178.2,178,175,179,180,175,178.9,176.2,177,172.5,178,176.5]\n",
    "Q5. How are measures of dispersion such as range, variance, and standard deviation used to describe\n",
    "the spread of a dataset? Provide an example.\n",
    "Q6. What is a Venn diagram?\n",
    "Q7. For the two given sets A = (2,3,4,5,6,7) & B = (0,2,6,8,10). Find:\n",
    "(i) A B\n",
    "(ii) A ⋃ B\n",
    "Q8. What do you understand about skewness in data?\n",
    "Q9. If a data is right skewed then what will be the position of median with respect to mean?\n",
    "Q10. Explain the difference between covariance and correlation. How are these measures used in\n",
    "statistical analysis?\n",
    "Q11. What is the formula for calculating the sample mean? Provide an example calculation for a\n",
    "dataset.\n",
    "Q12. For a normal distribution data what is the relationship between its measure of central tendency?\n",
    "Q13. How is covariance different from correlation?\n",
    "Q14. How do outliers affect measures of central tendency and dispersion? Provide an example."
   ]
  },
  {
   "cell_type": "code",
   "execution_count": null,
   "id": "4f824b74-8b9a-47ca-8868-fe4174207187",
   "metadata": {},
   "outputs": [],
   "source": [
    "1.What are the three measures of central tendency?\n",
    "Mean,Median,Mode\n"
   ]
  },
  {
   "cell_type": "code",
   "execution_count": null,
   "id": "695ae133-27de-467f-b2db-cf193deaf8d8",
   "metadata": {},
   "outputs": [],
   "source": [
    "2.What is the difference between the mean, median, and mode? How are they used to measure the\n",
    "central tendency of a dataset?\n",
    "The mode is the most frequently occurring value in the dataset. It’s possible to have no mode, one mode, or more than one mode.\n",
    "Mean is the average of all the elements.\n",
    "Median is the middle value in the dataset.\n",
    "\n",
    "The mode can be used for any level of measurement, but it’s most meaningful for nominal and ordinal levels.\n",
    "The median can only be used on data that can be ordered – that is, from ordinal, interval and ratio levels of measurement.\n",
    "The mean can only be used on interval and ratio levels of measurement because it requires equal \n",
    "spacing between adjacent values or scores in the scale.\n",
    "\n"
   ]
  },
  {
   "cell_type": "code",
   "execution_count": 10,
   "id": "040fdf57-e112-48b1-ad42-5f23137a908c",
   "metadata": {},
   "outputs": [
    {
     "name": "stdout",
     "output_type": "stream",
     "text": [
      "177.01875\n",
      "177.0\n",
      "Mode is 178.0\n"
     ]
    }
   ],
   "source": [
    "##Q3:-Measure the three measures of central tendency for the given height data:\n",
    "import numpy as np\n",
    "import statistics\n",
    "\n",
    "l=[178,177,176,177,178.2,178,175,179,180,175,178.9,176.2,177,172.5,178,176.5]\n",
    "a=np.array(l)\n",
    "mean=np.mean(a)\n",
    "median=np.median(a)\n",
    "print(mean)\n",
    "print(median)\n",
    "print('Mode is '+ str(statistics.mode(a)))"
   ]
  },
  {
   "cell_type": "code",
   "execution_count": 19,
   "id": "ed33d0a8-f8e6-4ab2-a083-dc6fd5643141",
   "metadata": {},
   "outputs": [
    {
     "name": "stdout",
     "output_type": "stream",
     "text": [
      "1.8472389305844188\n",
      "3.4122916666666674\n"
     ]
    }
   ],
   "source": [
    "'''\n",
    "Q4. Find the standard deviation for the given data:\n",
    "[178,177,176,177,178.2,178,175,179,180,175,178.9,176.2,177,172.5,178,176.5]'''\n",
    "import statistics\n",
    "l=[178,177,176,177,178.2,178,175,179,180,175,178.9,176.2,177,172.5,178,176.5]\n",
    "\n",
    "\n",
    "print(statistics.stdev(l))\n",
    "print(statistics.variance(l))\n"
   ]
  },
  {
   "cell_type": "code",
   "execution_count": null,
   "id": "2801760f-3fba-4343-ae75-cad46639ae93",
   "metadata": {},
   "outputs": [],
   "source": [
    "'''\n",
    "Q5:-Q5. How are measures of dispersion such as range, variance, and standard deviation used to describe\n",
    "the spread of a dataset? Provide an example.\n",
    "'''\n",
    "The range is the easiest dispersion of data or measure of variability. The range can measure by subtracting the lowest value from the massive Number.\n",
    "The wide range indicates high variability, and the small range specifies low variability in the distribution\n",
    "\n",
    "Variance is a simple measure of dispersion. Variance measures how far each number in the dataset \n",
    "\n",
    "from the mean. To compute variance first, calculate the mean and squared deviations from a mean\n",
    "\n",
    "\n",
    "Standard deviation is a squared root of the variance to get original values.\n",
    "Low standard deviation indicates data points close to mean.\n"
   ]
  },
  {
   "cell_type": "code",
   "execution_count": null,
   "id": "05ad5ea6-cc17-420d-a26a-35e64c7a5e70",
   "metadata": {},
   "outputs": [],
   "source": [
    "'''6:--\n",
    "What is venn diagram.\n",
    "'''\n",
    "A Venn diagram uses overlapping circles or other shapes \n",
    "to illustrate the logical relationships between two or more sets of items."
   ]
  },
  {
   "cell_type": "code",
   "execution_count": 20,
   "id": "442c13bd-3936-46bd-bdb1-96892a6cb594",
   "metadata": {},
   "outputs": [
    {
     "name": "stdout",
     "output_type": "stream",
     "text": [
      "Union : {0, 2, 3, 4, 5, 6, 7, 8, 10}\n",
      "Intersection : {2, 6}\n"
     ]
    }
   ],
   "source": [
    "'''7\n",
    "Q7. For the two given sets A = (2,3,4,5,6,7) & B = (0,2,6,8,10). Find:\n",
    "(i) A intersection B\n",
    "(ii) A ⋃ B\n",
    "'''\n",
    "a={2,3,4,5,6,7}\n",
    "b={0,2,6,8,10}\n",
    "print(\"Union :\", a |b)\n",
    "  \n",
    "# intersection\n",
    "print(\"Intersection :\", a & b)"
   ]
  },
  {
   "cell_type": "code",
   "execution_count": null,
   "id": "371c45fe-3a1c-4937-b766-caf03cc1473c",
   "metadata": {},
   "outputs": [],
   "source": [
    "'''8\n",
    "What do you understand about skewness in data?\n",
    "'''\n",
    "skewness is the measure of how much the probability distribution of a random variable deviates \n",
    "from the normal distribution. \n",
    "The probability distribution with its tail on the right side is a positively skewed distribution, \n",
    "and the one with its tail on the left side is a negatively skewed distribution. \n"
   ]
  },
  {
   "cell_type": "code",
   "execution_count": null,
   "id": "7bc9b7fd-a5e8-41bf-9fc5-b1e82f913078",
   "metadata": {},
   "outputs": [],
   "source": [
    "'''9\n",
    "If a data is right skewed then what will be the position of median with respect to mean?'''\n",
    "Median is towards left of the mean.\n"
   ]
  },
  {
   "cell_type": "code",
   "execution_count": null,
   "id": "258ac556-f653-485f-804c-b9d57204800b",
   "metadata": {},
   "outputs": [],
   "source": [
    "''' 10:-Explain the difference between covariance and correlation. How are these measures used in\n",
    "statistical analysis?'''\n",
    "''''Covariance and correlation are two terms that are opposed and are both used in statistics and regression analysis. \n",
    "Covariance shows you how the two variables differ, whereas correlation shows you how the two variables are related.'''"
   ]
  },
  {
   "cell_type": "code",
   "execution_count": null,
   "id": "faa881a5-9b86-4a24-9c7c-89229a949e64",
   "metadata": {},
   "outputs": [],
   "source": [
    "'''\n",
    "11. What is the formula for calculating the sample mean? Provide an example calculation for a\n",
    "dataset.\n",
    "Sum of All Elements/Number of elements\n",
    "\n",
    "'''"
   ]
  },
  {
   "cell_type": "code",
   "execution_count": null,
   "id": "0508bf75-ef74-4ecd-9bb6-987aea2b2e51",
   "metadata": {},
   "outputs": [],
   "source": [
    "'''\n",
    "For a normal distribution data what is the relationship between its measure of central tendency?\n",
    "\n",
    "These measures are often paired together, for example, the mean and standard deviation are often used together to provide a summary of the central tendency and dispersion of a set of data. Similarly, the median and interquartile range (the range between the first and third quartiles) are often used together.\n",
    "'''"
   ]
  },
  {
   "cell_type": "markdown",
   "id": "04a9fdfb-3ce7-4d23-8305-c478bb62677f",
   "metadata": {},
   "source": [
    "Q14. How do outliers affect measures of central tendency and dispersion? Provide an example.\n",
    "ANS:-Outliers can significantly increase or decrease the mean when they are included in the calculation. Since all values are used to calculate the mean, it can be affected by extreme outliers. \n",
    "An outlier is a value that differs significantly from the others in a dataset.\n",
    "\n"
   ]
  },
  {
   "cell_type": "code",
   "execution_count": null,
   "id": "b775136e-ce17-4f1c-a0d4-dd59dc33adab",
   "metadata": {},
   "outputs": [],
   "source": []
  }
 ],
 "metadata": {
  "kernelspec": {
   "display_name": "Python 3 (ipykernel)",
   "language": "python",
   "name": "python3"
  },
  "language_info": {
   "codemirror_mode": {
    "name": "ipython",
    "version": 3
   },
   "file_extension": ".py",
   "mimetype": "text/x-python",
   "name": "python",
   "nbconvert_exporter": "python",
   "pygments_lexer": "ipython3",
   "version": "3.10.8"
  }
 },
 "nbformat": 4,
 "nbformat_minor": 5
}
