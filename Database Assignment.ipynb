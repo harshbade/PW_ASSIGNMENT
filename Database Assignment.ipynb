{
 "cells": [
  {
   "cell_type": "code",
   "execution_count": 1,
   "id": "abc158ee-8ac2-4f87-8e62-4da38e20bc4b",
   "metadata": {},
   "outputs": [
    {
     "data": {
      "text/plain": [
       "'\\nQ1. What is a database? Differentiate between SQL and NoSQL databases.\\nQ2. What is DDL? Explain why CREATE, DROP, ALTER, and TRUNCATE are used with an example.\\nQ3. What is DML? Explain INSERT, UPDATE, and DELETE with an example.\\nQ4. What is DQL? Explain SELECT with an example.\\nQ5. Explain Primary Key and Foreign Key.\\nQ6. Write a python code to connect MySQL to python. Explain the cursor() and execute() method.\\nQ7. Give the order of execution of SQL clauses in an SQL query.\\n\\n\\n1.SQL databases display data in form of tables so it is known as table-based database. NoSQL databases display data as collection of key-value pair, documents, graph databases or wide-column stores. \\nSQL databases are vertically scalable\\n. NoSQL databases are horizontally scalable.\\n\\n\\n2.\\nDROP is a DDL(Data Definition Language) command and is used to remove table definition \\nand indexes, data, constraints, triggers etc for that table. Performance-wise\\nthe DROP command is quick to perform but slower than TRUNCATE because it gives rise to complications.\\nUnlike DELETE we can’t rollback the data after using the DROP command.\\nIn the DROP command, table space is freed from memory because it permanently delete table as well as all its contents.\\n\\n3.Data modification language statements (DML) INSERT, UPDATE, and DELETE.\\nUse the INSERT command to enter data into a table. You may insert one row at a time,\\nor select several rows from an existing table and insert them all at once.\\nVALUES (\"5555555\", \"Jones\", \"Jane\");\\n\\n\\n4.An SQL SELECT statement retrieves records from a database table according to clauses (for example, FROM and WHERE )\\nthat specify criteria. \\nThe syntax is: SELECT column1, column2 FROM table1, table2 WHERE column2=\\'value\\n\\n\\n5.A primary key generally focuses on the uniqueness of the table. It assures the value in the specific column is unique. A foreign key is generally used to build a relationship between the two tables.\\n'"
      ]
     },
     "execution_count": 1,
     "metadata": {},
     "output_type": "execute_result"
    }
   ],
   "source": [
    "'''\n",
    "Q1. What is a database? Differentiate between SQL and NoSQL databases.\n",
    "Q2. What is DDL? Explain why CREATE, DROP, ALTER, and TRUNCATE are used with an example.\n",
    "Q3. What is DML? Explain INSERT, UPDATE, and DELETE with an example.\n",
    "Q4. What is DQL? Explain SELECT with an example.\n",
    "Q5. Explain Primary Key and Foreign Key.\n",
    "Q6. Write a python code to connect MySQL to python. Explain the cursor() and execute() method.\n",
    "Q7. Give the order of execution of SQL clauses in an SQL query.\n",
    "\n",
    "\n",
    "1.SQL databases display data in form of tables so it is known as table-based database. \\\n",
    "NoSQL databases display data as collection of key-value pair, documents, graph databases or wide-column stores. \n",
    "SQL databases are vertically scalable\n",
    ". NoSQL databases are horizontally scalable.\n",
    "\n",
    "\n",
    "2.\n",
    "DROP is a DDL(Data Definition Language) command and is used to remove table definition \n",
    "and indexes, data, constraints, triggers etc for that table. Performance-wise\n",
    "the DROP command is quick to perform but slower than TRUNCATE because it gives rise to complications.\n",
    "Unlike DELETE we can’t rollback the data after using the DROP command.\n",
    "In the DROP command, table space is freed from memory because it permanently delete table as well as all its contents.\n",
    "\n",
    "3.Data modification language statements (DML) INSERT, UPDATE, and DELETE.\n",
    "Use the INSERT command to enter data into a table. You may insert one row at a time,\n",
    "or select several rows from an existing table and insert them all at once.\n",
    "VALUES (\"5555555\", \"Jones\", \"Jane\");\n",
    "\n",
    "\n",
    "4.An SQL SELECT statement retrieves records from a database table according to clauses (for example, FROM and WHERE )\n",
    "that specify criteria. \n",
    "The syntax is: SELECT column1, column2 FROM table1, table2 WHERE column2='value\n",
    "\n",
    "\n",
    "5.A primary key generally focuses on the uniqueness of the table. \n",
    "It assures the value in the specific column is unique. A foreign key is generally \n",
    "used to build a relationship between the two tables.\n",
    "\n",
    "\n",
    "\n",
    "7.1. FROM/JOIN: The FROM and/or JOIN clauses are executed first to determine the data of interest.\n",
    "\n",
    "2. WHERE: The WHERE clause is executed to filter out records that do not meet the constraints.\n",
    "\n",
    "3. GROUP BY: The GROUP BY clause is executed to group the data based on the values in one or more columns.\n",
    "\n",
    "4. HAVING: The HAVING clause is executed to remove the created grouped records that don’t meet the constraints.\n",
    "\n",
    "5. SELECT: The SELECT clause is executed to derive all desired columns and expressions.\n",
    "\n",
    "6. ORDER BY: The ORDER BY clause is executed to sort the derived values in ascending or descending order.\n",
    "\n",
    "7. LIMIT/OFFSET: Finally, the LIMIT and/or OFFSET clauses are executed to keep or skip a specified number of rows.\n",
    "'''"
   ]
  },
  {
   "cell_type": "code",
   "execution_count": null,
   "id": "de8c6ab8-8131-4166-91c5-b5b7db4b9a15",
   "metadata": {},
   "outputs": [],
   "source": []
  }
 ],
 "metadata": {
  "kernelspec": {
   "display_name": "Python 3 (ipykernel)",
   "language": "python",
   "name": "python3"
  },
  "language_info": {
   "codemirror_mode": {
    "name": "ipython",
    "version": 3
   },
   "file_extension": ".py",
   "mimetype": "text/x-python",
   "name": "python",
   "nbconvert_exporter": "python",
   "pygments_lexer": "ipython3",
   "version": "3.10.8"
  }
 },
 "nbformat": 4,
 "nbformat_minor": 5
}
