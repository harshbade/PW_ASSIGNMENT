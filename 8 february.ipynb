{
 "cells": [
  {
   "cell_type": "markdown",
   "id": "dcbf1901-adf3-46c2-9f51-6282f1c542bf",
   "metadata": {},
   "source": [
    "\n",
    "Q1. What is Abstraction in OOps? Explain with an example.'''\n",
    "\n",
    "Abstraction is the process of hiding the internal details of an application from the outer world. \n",
    "Abstraction is used to describe things in simple terms.\n",
    "It’s used to create a boundary between the application and the client programs.\n",
    "Abstraction in real life:-\n",
    "We can heat our food in Microwave. We press some buttons to set the timer and type of food. Finally, we get a hot and delicious meal. The microwave internal details are hidden from us. We have been given access to the functionality in a very simple manner.\n",
    "\n",
    "Objects are the building blocks of Object-Oriented Programming. An object contains some properties and methods. We can hide them from the outer world through access modifiers. We can provide access only for required functions and properties to the other programs. This is the general procedure to implement abstraction in OOPS.\n",
    "We don’t need to provide details about all the functions of an object. When we hide the internal implementation of the different functions involved in a user operation, it creates process abstraction.\n",
    "When the object data is not visible to the outer world, it creates data abstraction. If needed, access to the Objects’ data is provided through some methods."
   ]
  },
  {
   "cell_type": "markdown",
   "id": "2438b310-40ec-44ad-8f54-638a621b31ef",
   "metadata": {},
   "source": [
    "2.Differentiate between Abstraction and Encapsulation. Explain with an example.\n",
    "\n",
    "Abstraction is a process of hiding unnecessary data and showing only relevant data. Out of an ocean of data, we are only maintaining the transparency of some data to the user. This important concept in object-oriented programming will reduce the complexity of the code and increases the readability.\n",
    "\n",
    "\n",
    "Encapsulation is binding the data members with member variables. This will avoid the direct access of variables, because direct access of variables may violate privacy, and hiding of the implementation will not be possible.\n",
    "\n",
    "Encapsulation minimizes your code’s part revealed to the user. The user can be anyone who uses your published code or perhaps your code’s remaining part.\n",
    "\n",
    "Encapsulation works like a protective wrapper that conceals the code and data within the class. That data and code will be accessed outside the method/member function and the class that is not the members of that class.\n",
    "\n",
    "Abstraction is a design level process and it is used to reduce the complexity at the designing stage of a project.\n",
    "Encapsulation is an implementation level process, and it is used to provide privacy and maintain control over the transparency of data at the implementation stage of a project."
   ]
  },
  {
   "cell_type": "markdown",
   "id": "c1d5833b-3f75-4c1a-ab62-410fbdab3e5a",
   "metadata": {},
   "source": [
    "4.Q4. How can we achieve data abstraction?\n",
    "\n",
    "Data Abstraction in Python can be achieved through creating abstract classes and inheriting them later. Before discussing what abstract classes are, let us have a brief introduction of inheritance.\n",
    "\n",
    "\n",
    "The basic syntax to implement abstraction in Python is:\n",
    "\n",
    "from abc import ABC\n",
    "class MyABC(ABC):\n",
    "\tpass\n",
    "    \n",
    "from abc import ABC, abstractmethod\n",
    "class MyClass(ABC):\n",
    " @abstractmethod\n",
    " def mymethod(self):\n",
    "  #empty body\n",
    "  pass"
   ]
  },
  {
   "cell_type": "markdown",
   "id": "0b5c354b-714b-4a5e-9306-7829f750f95d",
   "metadata": {},
   "source": [
    "Q5. Can we create an instance of an abstract class? Explain your answer.\n",
    "\n",
    "Abstract classes are not complete, as they may have some methods that are not defined.\n",
    "So we cannot create an instance or object of an abstract class in Python. \n",
    "If we try to instantiate the abstract class, it raises an error."
   ]
  }
 ],
 "metadata": {
  "kernelspec": {
   "display_name": "Python 3 (ipykernel)",
   "language": "python",
   "name": "python3"
  },
  "language_info": {
   "codemirror_mode": {
    "name": "ipython",
    "version": 3
   },
   "file_extension": ".py",
   "mimetype": "text/x-python",
   "name": "python",
   "nbconvert_exporter": "python",
   "pygments_lexer": "ipython3",
   "version": "3.10.8"
  }
 },
 "nbformat": 4,
 "nbformat_minor": 5
}
