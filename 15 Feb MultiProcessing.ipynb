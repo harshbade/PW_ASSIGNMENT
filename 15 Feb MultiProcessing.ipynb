{
 "cells": [
  {
   "cell_type": "code",
   "execution_count": null,
   "id": "d7a15b53-04ea-4ff4-93e7-d3eac519cf21",
   "metadata": {},
   "outputs": [],
   "source": [
    "'''\n",
    " What is multithreading in python? hy is it used? Name the module used to handle threads in python\n",
    " \n",
    " Multithreading is a threading technique in Python programming \n",
    " to run multiple threads concurrently by rapidly switching between threads with a CPU help (called context switching).\n",
    "  Besides, it allows sharing of its data space with the main threads inside\n",
    "  a process that share information and communication with other threads easier than individual processes.\n",
    "  Benefits of Multithreading in Python\n",
    "Following are the benefits to create a multithreaded application in Python, as follows:\n",
    "\n",
    "It ensures effective utilization of computer system resources.\n",
    "Multithreaded applications are more responsive.\n",
    "It shares resources and its state with sub-threads (child) which makes it more economical.\n",
    "It makes the multiprocessor architecture more effective due to similarity.\n",
    "It saves time by executing multiple threads at the same time.\n",
    "The system does not require too much memory to store multiple threads.\n",
    "\n",
    "\n",
    "There are two module in python for implementing thread:\n",
    "1.Thread\n",
    "2.threading\n",
    " '''"
   ]
  },
  {
   "cell_type": "code",
   "execution_count": null,
   "id": "3ee99d09-9e55-4f72-a038-afb03327235f",
   "metadata": {},
   "outputs": [],
   "source": [
    "'''\n",
    "2.. Why threading module used? Write the use of the following functions\n",
    "a.activeCount\n",
    " b.currentThread\n",
    " c.enumerate?\n",
    " The newer threading module included with Python 2.4 provides much more powerful, high-level support for threads than the thread module discussed in the previous section.\n",
    "\n",
    "The threading module exposes all the methods of the thread module and provides some additional methods −\n",
    "\n",
    "threading.activeCount() − Returns the number of thread objects that are active.\n",
    "threading.currentThread() − Returns the number of thread objects in the caller's thread control.\n",
    "threading.enumerate() − Returns a list of all thread objects that are currently active.\n",
    "\n"
   ]
  },
  {
   "cell_type": "code",
   "execution_count": null,
   "id": "da5abfd7-0b7c-4de7-8691-1b07390bb3bb",
   "metadata": {},
   "outputs": [],
   "source": [
    "'''\n",
    "3. Explain the following functions\n",
    "( run,\n",
    " start,\n",
    " join, isAlive)\n",
    " \n",
    " run()  − The run() method is the entry point for a thread.\n",
    "start()  − The start() method starts a thread by calling the run method.\n",
    "join([time])  − The join() waits for threads to terminate.\n",
    "isAlive()  − The isAlive() method checks whether a thread is still executing.\n",
    "getName()  − The getName() method returns the name of a thread.\n",
    "setName()  − The setName() method sets the name of a thread.'''\n"
   ]
  },
  {
   "cell_type": "code",
   "execution_count": 1,
   "id": "bfdfa541-66c9-45da-8f6b-af091dcf6b11",
   "metadata": {},
   "outputs": [
    {
     "name": "stdout",
     "output_type": "stream",
     "text": [
      "Square: 100\n",
      "Cube: 1000\n",
      "Done!\n"
     ]
    }
   ],
   "source": [
    "'''\n",
    "Write a python program to create two threads. Thread one must print the list of squares and thread\n",
    "two must print the list of cubes'''\n",
    "\n",
    "\n",
    "# Python program to illustrate the concept\n",
    "# of threading\n",
    "# importing the threading module\n",
    "import threading\n",
    " \n",
    " \n",
    "def print_cube(num):\n",
    "    # function to print cube of given num\n",
    "    print(\"Cube: {}\" .format(num * num * num))\n",
    " \n",
    " \n",
    "def print_square(num):\n",
    "    # function to print square of given num\n",
    "    print(\"Square: {}\" .format(num * num))\n",
    " \n",
    " \n",
    "if __name__ ==\"__main__\":\n",
    "    # creating thread\n",
    "    t1 = threading.Thread(target=print_square, args=(10,))\n",
    "    t2 = threading.Thread(target=print_cube, args=(10,))\n",
    " \n",
    "    # starting thread 1\n",
    "    t1.start()\n",
    "    # starting thread 2\n",
    "    t2.start()\n",
    " \n",
    "    # wait until thread 1 is completely executed\n",
    "    t1.join()\n",
    "    # wait until thread 2 is completely executed\n",
    "    t2.join()\n",
    " \n",
    "    # both threads completely executed\n",
    "    print(\"Done!\")"
   ]
  },
  {
   "cell_type": "code",
   "execution_count": null,
   "id": "02543861-f41f-43cb-8d8e-8bed94ad8d6a",
   "metadata": {},
   "outputs": [],
   "source": [
    "'''\n",
    "5.\n",
    "State advantages and disadvantages of multithreading'''\n",
    "'''\n",
    "We can execute multiple tasks of an application at a time\n",
    "Reduces the complexity of a big applications\n",
    "Helps to improve the performance of an application drastically\n",
    "Utilizes the max resources of multiprocessor systems\n",
    "Better user interface in case of GUI based applications\n",
    "Reduces the development time of an application\n",
    "All the threads are independent , any unexpected exception happens in any of the thread will not lead to an application exit.\n",
    "\n",
    "DISADVANTAGE\n",
    "\n",
    "Thread synchronization is an extra over head to the developers\n",
    "Shares the common data across the threads might cause the data inconsistency or thread sync issues\n",
    "Threads blocking for resources is more common problem\n",
    "Difficult in managing the code in terms of debugging or writing the code\n",
    "\n",
    "\n",
    "'''\n",
    "\n",
    "\n"
   ]
  },
  {
   "cell_type": "code",
   "execution_count": null,
   "id": "2a861911-8946-409d-b76b-59c7a6592a40",
   "metadata": {},
   "outputs": [],
   "source": [
    "'''\n",
    "\n",
    "6. Explain deadlocks and race conditions.\n",
    "A deadlock is when two (or more) threads are blocking each other\n",
    ". Usually this has something to do with threads trying to acquire shared resources.\n",
    "For example if threads T1 and T2 need to acquire both resources A and B in order to do their work.\n",
    "If T1 acquires resource A, then T2 acquires resource B, \n",
    "T1 could then be waiting for resource B while T2 was waiting for resource A.\n",
    "In this case, both threads will wait indefinitely for the resource held by the other thread. \n",
    "These threads are said to be deadlocked.\n",
    "\n",
    "\n",
    "Race conditions occur when two threads interact in a negatve (buggy) way \n",
    "depending on the exact order that their different instructions are executed.\n",
    "If one thread sets a global variable, for example, then a second thread reads and \n",
    "modifies that global variable, and the first thread reads the variable,\n",
    "the first thread may experience a bug because the variable has changed unexpectedly."
   ]
  }
 ],
 "metadata": {
  "kernelspec": {
   "display_name": "Python 3 (ipykernel)",
   "language": "python",
   "name": "python3"
  },
  "language_info": {
   "codemirror_mode": {
    "name": "ipython",
    "version": 3
   },
   "file_extension": ".py",
   "mimetype": "text/x-python",
   "name": "python",
   "nbconvert_exporter": "python",
   "pygments_lexer": "ipython3",
   "version": "3.10.8"
  }
 },
 "nbformat": 4,
 "nbformat_minor": 5
}
