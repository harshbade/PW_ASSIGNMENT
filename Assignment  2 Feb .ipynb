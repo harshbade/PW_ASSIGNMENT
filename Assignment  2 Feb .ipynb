{
 "cells": [
  {
   "cell_type": "code",
   "execution_count": null,
   "id": "6a947838-5432-41e2-953f-c6d5daecf363",
   "metadata": {},
   "outputs": [],
   "source": [
    "#Q1. Explain with an example each when to use a for loop and a while loop.\n",
    "'''\n",
    "Answer:-\n",
    " While loops are best suited when you do not know ahead of time the number of iterations that you need to do.\n",
    " For Loops are  best suited when you know the number of  times you have to perform the iteration.\n",
    "'''\n"
   ]
  },
  {
   "cell_type": "code",
   "execution_count": 3,
   "id": "5ed40a72-b694-4afb-8670-9e57ee8254fa",
   "metadata": {},
   "outputs": [
    {
     "name": "stdout",
     "output_type": "stream",
     "text": [
      "Sum of 10 Natural Number is 55\n",
      "Prod of 10 Natural Number is 3628800\n"
     ]
    }
   ],
   "source": [
    "'''2.Write a python program to print the sum and product of the first 10 natural numbers using for\n",
    "and while loop.'''\n",
    "sum1=0\n",
    "prod=1\n",
    "counter=1\n",
    "while counter<=10:\n",
    "    sum1=sum1+counter\n",
    "    prod=prod*counter\n",
    "    counter=counter+1\n",
    "print('Sum of 10 Natural Number is ' + str(sum1))\n",
    "print('Prod of 10 Natural Number is ' + str(prod))"
   ]
  },
  {
   "cell_type": "code",
   "execution_count": 6,
   "id": "98ef8035-4555-4646-9858-4bc694c935e6",
   "metadata": {},
   "outputs": [
    {
     "name": "stdin",
     "output_type": "stream",
     "text": [
      "Enter Units 150\n"
     ]
    },
    {
     "name": "stdout",
     "output_type": "stream",
     "text": [
      "750.0\n"
     ]
    }
   ],
   "source": [
    "'''\n",
    "Q3. Create a python program to compute the electricity bill for a household.\n",
    "The per-unit charges in rupees are as follows: For the first 100 units, the user will be charged Rs. 4.5 per\n",
    "unit, for the next 100 units, the user will be charged Rs. 6 per unit, and for the next 100 units, the user will\n",
    "be charged Rs. 10 per unit, After 300 units and above the user will be charged Rs. 20 per unit.\n",
    "'''\n",
    "unit=int(input('Enter Units'))\n",
    "if unit<=100:\n",
    "    bill=unit*4.5\n",
    "elif unit<=200:\n",
    "    bill=(100*4.5)+(unit-100)*6\n",
    "elif unit<=300:\n",
    "    bill=(100*4.5)+(100)*6+(unit-200)*10\n",
    "elif unit>300:\n",
    "    bill=(100*4.5)+(100)*6+(100)*10+(unit-300)*20\n",
    "print(bill)\n"
   ]
  },
  {
   "cell_type": "code",
   "execution_count": 14,
   "id": "3810d27b-bbc6-48d0-89f6-bb43586ff709",
   "metadata": {},
   "outputs": [
    {
     "name": "stdout",
     "output_type": "stream",
     "text": [
      "[2, 4, 5, 6, 8, 10, 12, 14, 15, 16, 18, 20, 22, 24, 25, 26, 28, 30, 32, 34, 35, 36, 38, 40, 42, 44, 45, 46, 48, 50, 52, 54, 55, 56, 58, 60, 62, 64, 65, 66, 68, 70, 72, 74, 75, 76, 78, 80, 82, 84, 85, 86, 88, 90, 92, 94, 95, 96, 98, 100]\n"
     ]
    }
   ],
   "source": [
    "'''\n",
    "Create a list of numbers from 1 to 100. Use for loop and while loop to calculate the cube of each\n",
    "number and if the cube of that number is divisible by 4 or 5 then append that number in a list and print\n",
    "that list.'''\n",
    "num_list=[i for i in range(1,101)]\n",
    "req_list=[]\n",
    "for i in range(len(num_list)):\n",
    "    if num_list[i]**3%4==0 or num_list[i]**3%5==0:\n",
    "        req_list.append(num_list[i])\n",
    "print(req_list)\n"
   ]
  },
  {
   "cell_type": "code",
   "execution_count": 2,
   "id": "6e0030e0-d686-4ff2-b17e-2631ab8fc6cc",
   "metadata": {},
   "outputs": [
    {
     "name": "stdout",
     "output_type": "stream",
     "text": [
      "Number of vowels:  12\n"
     ]
    }
   ],
   "source": [
    "'''\n",
    "Q5. Write a program to filter count vowels in the below-given string.\n",
    "string = \"I want to become a data scientist\"\n",
    "'''\n",
    "string = \"I want to become a data scientist\"\n",
    "\n",
    "# list comprehension\n",
    "count = len([char for char in string if char in \"aeiouAEIOU\"])\n",
    "\n",
    "print(\"Number of vowels: \", count   )"
   ]
  }
 ],
 "metadata": {
  "kernelspec": {
   "display_name": "Python 3 (ipykernel)",
   "language": "python",
   "name": "python3"
  },
  "language_info": {
   "codemirror_mode": {
    "name": "ipython",
    "version": 3
   },
   "file_extension": ".py",
   "mimetype": "text/x-python",
   "name": "python",
   "nbconvert_exporter": "python",
   "pygments_lexer": "ipython3",
   "version": "3.10.8"
  }
 },
 "nbformat": 4,
 "nbformat_minor": 5
}
